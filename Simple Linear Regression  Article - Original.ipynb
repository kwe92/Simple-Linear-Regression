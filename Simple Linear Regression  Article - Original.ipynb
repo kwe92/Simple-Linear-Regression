{
 "cells": [
  {
   "cell_type": "code",
   "execution_count": 1,
   "id": "80b5334d",
   "metadata": {},
   "outputs": [],
   "source": [
    "import pandas as pd\n",
    "import numpy as np\n",
    "import matplotlib.pyplot as plt\n",
    "import seaborn as sns\n",
    "from sklearn.linear_model import LinearRegression\n",
    "from scipy.stats import spearmanr\n",
    "from sklearn.metrics import mean_squared_error"
   ]
  },
  {
   "cell_type": "code",
   "execution_count": 2,
   "id": "7ba53c46",
   "metadata": {},
   "outputs": [],
   "source": [
    "class SimpleLinearRegression:\n",
    "    def __init__(self):\n",
    "        self._intercept = 0\n",
    "        self._slope = 0\n",
    "    \n",
    "    def FitModel(self,X,y):\n",
    "        \n",
    "        X_sum = sum(X)\n",
    "        y_sum = sum(y)\n",
    "        Xy_sum = sum((X * y))\n",
    "        X_squared_sum = sum(X ** 2)\n",
    "        y_squared_sum =  sum(y ** 2)\n",
    "        \n",
    "        self._intercept = (\n",
    "                           ((y_sum * X_squared_sum) - (X_sum * Xy_sum)) / \n",
    "                           ((len(X) * X_squared_sum) - (X_sum ** 2))\n",
    "                          )\n",
    "        \n",
    "        self._slope = (\n",
    "                        ((len(X) * Xy_sum) - (X_sum * y_sum)) / \n",
    "                        ((len(X) * X_squared_sum) - (X_sum ** 2))\n",
    "                      )\n",
    "        \n",
    "    def predictor(self,X):\n",
    "        y_pred = self._intercept + (self._slope * X)\n",
    "        return y_pred"
   ]
  },
  {
   "cell_type": "code",
   "execution_count": 3,
   "id": "eee13996",
   "metadata": {},
   "outputs": [],
   "source": [
    "def fit_intercept_slope(b0, b1):\n",
    "    def predictor(X):\n",
    "        yPred = b0 + (b1 * X)\n",
    "        return yPred\n",
    "    return predictor"
   ]
  },
  {
   "cell_type": "code",
   "execution_count": 4,
   "id": "6f93902b",
   "metadata": {},
   "outputs": [],
   "source": [
    "diabetesData = {\"Age\":np.array([43,21,25,42,57,59]),\n",
    "                \"mg/dL- (Glucose Level)\": np.array([99,65,79,75,87,81])}"
   ]
  },
  {
   "cell_type": "code",
   "execution_count": 5,
   "id": "838c20b1",
   "metadata": {},
   "outputs": [],
   "source": [
    "db_df = pd.DataFrame(diabetesData)"
   ]
  },
  {
   "cell_type": "code",
   "execution_count": 6,
   "id": "6d3bb526",
   "metadata": {},
   "outputs": [
    {
     "data": {
      "text/html": [
       "<div>\n",
       "<style scoped>\n",
       "    .dataframe tbody tr th:only-of-type {\n",
       "        vertical-align: middle;\n",
       "    }\n",
       "\n",
       "    .dataframe tbody tr th {\n",
       "        vertical-align: top;\n",
       "    }\n",
       "\n",
       "    .dataframe thead th {\n",
       "        text-align: right;\n",
       "    }\n",
       "</style>\n",
       "<table border=\"1\" class=\"dataframe\">\n",
       "  <thead>\n",
       "    <tr style=\"text-align: right;\">\n",
       "      <th></th>\n",
       "      <th>Age</th>\n",
       "      <th>mg/dL- (Glucose Level)</th>\n",
       "    </tr>\n",
       "  </thead>\n",
       "  <tbody>\n",
       "    <tr>\n",
       "      <th>0</th>\n",
       "      <td>43</td>\n",
       "      <td>99</td>\n",
       "    </tr>\n",
       "    <tr>\n",
       "      <th>1</th>\n",
       "      <td>21</td>\n",
       "      <td>65</td>\n",
       "    </tr>\n",
       "    <tr>\n",
       "      <th>2</th>\n",
       "      <td>25</td>\n",
       "      <td>79</td>\n",
       "    </tr>\n",
       "    <tr>\n",
       "      <th>3</th>\n",
       "      <td>42</td>\n",
       "      <td>75</td>\n",
       "    </tr>\n",
       "    <tr>\n",
       "      <th>4</th>\n",
       "      <td>57</td>\n",
       "      <td>87</td>\n",
       "    </tr>\n",
       "    <tr>\n",
       "      <th>5</th>\n",
       "      <td>59</td>\n",
       "      <td>81</td>\n",
       "    </tr>\n",
       "  </tbody>\n",
       "</table>\n",
       "</div>"
      ],
      "text/plain": [
       "   Age  mg/dL- (Glucose Level)\n",
       "0   43                      99\n",
       "1   21                      65\n",
       "2   25                      79\n",
       "3   42                      75\n",
       "4   57                      87\n",
       "5   59                      81"
      ]
     },
     "execution_count": 6,
     "metadata": {},
     "output_type": "execute_result"
    }
   ],
   "source": [
    "db_df"
   ]
  },
  {
   "cell_type": "code",
   "execution_count": 7,
   "id": "9758b44a",
   "metadata": {},
   "outputs": [],
   "source": [
    "X = db_df['Age'].values\n",
    "y = db_df['mg/dL- (Glucose Level)'].values"
   ]
  },
  {
   "cell_type": "code",
   "execution_count": 8,
   "id": "fc526dc0",
   "metadata": {},
   "outputs": [
    {
     "data": {
      "text/plain": [
       "array([43, 21, 25, 42, 57, 59])"
      ]
     },
     "execution_count": 8,
     "metadata": {},
     "output_type": "execute_result"
    }
   ],
   "source": [
    "X"
   ]
  },
  {
   "cell_type": "code",
   "execution_count": 9,
   "id": "417b1c95",
   "metadata": {},
   "outputs": [
    {
     "data": {
      "text/plain": [
       "array([99, 65, 79, 75, 87, 81])"
      ]
     },
     "execution_count": 9,
     "metadata": {},
     "output_type": "execute_result"
    }
   ],
   "source": [
    "y"
   ]
  },
  {
   "cell_type": "code",
   "execution_count": 10,
   "id": "f0a225a0",
   "metadata": {
    "scrolled": true
   },
   "outputs": [
    {
     "data": {
      "image/png": "[encoded data removed]",
      "text/plain": [
       "<Figure size 504x360 with 1 Axes>"
      ]
     },
     "metadata": {
      "needs_background": "light"
     },
     "output_type": "display_data"
    }
   ],
   "source": [
    "plt.figure(figsize=(7,5))\n",
    "sns.scatterplot(x=X,y=y).set(xlabel=\"Age\", ylabel = \"Glucose\", title='Glucose Levels by Age')\n",
    "plt.show()"
   ]
  },
  {
   "cell_type": "markdown",
   "id": "f30c07a7",
   "metadata": {},
   "source": [
    "# Correlation Coefficient"
   ]
  },
  {
   "cell_type": "code",
   "execution_count": 11,
   "id": "14937934",
   "metadata": {},
   "outputs": [
    {
     "data": {
      "text/plain": [
       "SpearmanrResult(correlation=0.7142857142857143, pvalue=0.1107871720116617)"
      ]
     },
     "execution_count": 11,
     "metadata": {},
     "output_type": "execute_result"
    }
   ],
   "source": [
    "spearmanr(X,y)"
   ]
  },
  {
   "cell_type": "markdown",
   "id": "9704e665",
   "metadata": {},
   "source": [
    "# Calculate The Values"
   ]
  },
  {
   "cell_type": "code",
   "execution_count": 12,
   "id": "8e834cd0",
   "metadata": {},
   "outputs": [],
   "source": [
    "X_sum = sum(X)\n",
    "y_sum = sum(y)"
   ]
  },
  {
   "cell_type": "code",
   "execution_count": 13,
   "id": "5bb17cce",
   "metadata": {},
   "outputs": [
    {
     "data": {
      "text/plain": [
       "247"
      ]
     },
     "execution_count": 13,
     "metadata": {},
     "output_type": "execute_result"
    }
   ],
   "source": [
    "X_sum"
   ]
  },
  {
   "cell_type": "code",
   "execution_count": 14,
   "id": "2d8dd7e3",
   "metadata": {},
   "outputs": [
    {
     "data": {
      "text/plain": [
       "486"
      ]
     },
     "execution_count": 14,
     "metadata": {},
     "output_type": "execute_result"
    }
   ],
   "source": [
    "y_sum"
   ]
  },
  {
   "cell_type": "code",
   "execution_count": 15,
   "id": "b23f71cd",
   "metadata": {},
   "outputs": [],
   "source": [
    "Xy = X * y"
   ]
  },
  {
   "cell_type": "code",
   "execution_count": 16,
   "id": "43c0b663",
   "metadata": {},
   "outputs": [
    {
     "data": {
      "text/plain": [
       "array([4257, 1365, 1975, 3150, 4959, 4779])"
      ]
     },
     "execution_count": 16,
     "metadata": {},
     "output_type": "execute_result"
    }
   ],
   "source": [
    "Xy"
   ]
  },
  {
   "cell_type": "code",
   "execution_count": 17,
   "id": "c647edf0",
   "metadata": {},
   "outputs": [],
   "source": [
    "Xy_sum = sum(Xy)"
   ]
  },
  {
   "cell_type": "code",
   "execution_count": 18,
   "id": "9f8c0987",
   "metadata": {},
   "outputs": [
    {
     "data": {
      "text/plain": [
       "20485"
      ]
     },
     "execution_count": 18,
     "metadata": {},
     "output_type": "execute_result"
    }
   ],
   "source": [
    "Xy_sum"
   ]
  },
  {
   "cell_type": "code",
   "execution_count": 19,
   "id": "41311a0d",
   "metadata": {},
   "outputs": [],
   "source": [
    "X_squared = X ** 2"
   ]
  },
  {
   "cell_type": "code",
   "execution_count": 20,
   "id": "3e53d52f",
   "metadata": {},
   "outputs": [],
   "source": [
    "y_squared = y ** 2"
   ]
  },
  {
   "cell_type": "code",
   "execution_count": 21,
   "id": "f9609f52",
   "metadata": {},
   "outputs": [
    {
     "data": {
      "text/plain": [
       "array([1849,  441,  625, 1764, 3249, 3481], dtype=int32)"
      ]
     },
     "execution_count": 21,
     "metadata": {},
     "output_type": "execute_result"
    }
   ],
   "source": [
    "X_squared"
   ]
  },
  {
   "cell_type": "code",
   "execution_count": 22,
   "id": "08b4b643",
   "metadata": {},
   "outputs": [
    {
     "data": {
      "text/plain": [
       "array([9801, 4225, 6241, 5625, 7569, 6561], dtype=int32)"
      ]
     },
     "execution_count": 22,
     "metadata": {},
     "output_type": "execute_result"
    }
   ],
   "source": [
    "y_squared"
   ]
  },
  {
   "cell_type": "code",
   "execution_count": 23,
   "id": "9f964289",
   "metadata": {},
   "outputs": [],
   "source": [
    "X_squared_sum = sum(X_squared)\n",
    "y_squared_sum = sum(y_squared)"
   ]
  },
  {
   "cell_type": "code",
   "execution_count": 24,
   "id": "ac655ed9",
   "metadata": {},
   "outputs": [
    {
     "data": {
      "text/plain": [
       "11409"
      ]
     },
     "execution_count": 24,
     "metadata": {},
     "output_type": "execute_result"
    }
   ],
   "source": [
    "X_squared_sum"
   ]
  },
  {
   "cell_type": "code",
   "execution_count": 25,
   "id": "a97e7f95",
   "metadata": {},
   "outputs": [
    {
     "data": {
      "text/plain": [
       "40022"
      ]
     },
     "execution_count": 25,
     "metadata": {},
     "output_type": "execute_result"
    }
   ],
   "source": [
    "y_squared_sum"
   ]
  },
  {
   "cell_type": "markdown",
   "id": "9789265d",
   "metadata": {},
   "source": [
    "# Put it Together"
   ]
  },
  {
   "cell_type": "code",
   "execution_count": 26,
   "id": "d9b103be",
   "metadata": {},
   "outputs": [
    {
     "data": {
      "text/html": [
       "<div>\n",
       "<style scoped>\n",
       "    .dataframe tbody tr th:only-of-type {\n",
       "        vertical-align: middle;\n",
       "    }\n",
       "\n",
       "    .dataframe tbody tr th {\n",
       "        vertical-align: top;\n",
       "    }\n",
       "\n",
       "    .dataframe thead th {\n",
       "        text-align: right;\n",
       "    }\n",
       "</style>\n",
       "<table border=\"1\" class=\"dataframe\">\n",
       "  <thead>\n",
       "    <tr style=\"text-align: right;\">\n",
       "      <th></th>\n",
       "      <th>Age</th>\n",
       "      <th>mg/dL- (Glucose Level)</th>\n",
       "    </tr>\n",
       "  </thead>\n",
       "  <tbody>\n",
       "    <tr>\n",
       "      <th>0</th>\n",
       "      <td>43</td>\n",
       "      <td>99</td>\n",
       "    </tr>\n",
       "    <tr>\n",
       "      <th>1</th>\n",
       "      <td>21</td>\n",
       "      <td>65</td>\n",
       "    </tr>\n",
       "    <tr>\n",
       "      <th>2</th>\n",
       "      <td>25</td>\n",
       "      <td>79</td>\n",
       "    </tr>\n",
       "    <tr>\n",
       "      <th>3</th>\n",
       "      <td>42</td>\n",
       "      <td>75</td>\n",
       "    </tr>\n",
       "    <tr>\n",
       "      <th>4</th>\n",
       "      <td>57</td>\n",
       "      <td>87</td>\n",
       "    </tr>\n",
       "    <tr>\n",
       "      <th>5</th>\n",
       "      <td>59</td>\n",
       "      <td>81</td>\n",
       "    </tr>\n",
       "  </tbody>\n",
       "</table>\n",
       "</div>"
      ],
      "text/plain": [
       "   Age  mg/dL- (Glucose Level)\n",
       "0   43                      99\n",
       "1   21                      65\n",
       "2   25                      79\n",
       "3   42                      75\n",
       "4   57                      87\n",
       "5   59                      81"
      ]
     },
     "execution_count": 26,
     "metadata": {},
     "output_type": "execute_result"
    }
   ],
   "source": [
    "db_df"
   ]
  },
  {
   "cell_type": "code",
   "execution_count": 27,
   "id": "4cc46ca8",
   "metadata": {},
   "outputs": [],
   "source": [
    "vector_of_sums = np.array([X_sum, y_sum, Xy_sum, X_squared_sum, y_squared_sum])"
   ]
  },
  {
   "cell_type": "code",
   "execution_count": 28,
   "id": "fcad5ddb",
   "metadata": {},
   "outputs": [],
   "source": [
    "db_df['Xy'] = Xy\n",
    "db_df['X_Squared'] = X_squared\n",
    "db_df['y_Squared'] = y_squared"
   ]
  },
  {
   "cell_type": "code",
   "execution_count": 29,
   "id": "491c47e4",
   "metadata": {},
   "outputs": [],
   "source": [
    "db_df.loc[len(db_df)] = vector_of_sums"
   ]
  },
  {
   "cell_type": "code",
   "execution_count": 30,
   "id": "b47db0ea",
   "metadata": {},
   "outputs": [],
   "source": [
    "db_df.rename(index={db_df.index[-1]:'Sum'},inplace = True)"
   ]
  },
  {
   "cell_type": "code",
   "execution_count": 31,
   "id": "256cb35d",
   "metadata": {},
   "outputs": [
    {
     "data": {
      "text/html": [
       "<div>\n",
       "<style scoped>\n",
       "    .dataframe tbody tr th:only-of-type {\n",
       "        vertical-align: middle;\n",
       "    }\n",
       "\n",
       "    .dataframe tbody tr th {\n",
       "        vertical-align: top;\n",
       "    }\n",
       "\n",
       "    .dataframe thead th {\n",
       "        text-align: right;\n",
       "    }\n",
       "</style>\n",
       "<table border=\"1\" class=\"dataframe\">\n",
       "  <thead>\n",
       "    <tr style=\"text-align: right;\">\n",
       "      <th></th>\n",
       "      <th>Age</th>\n",
       "      <th>mg/dL- (Glucose Level)</th>\n",
       "      <th>Xy</th>\n",
       "      <th>X_Squared</th>\n",
       "      <th>y_Squared</th>\n",
       "    </tr>\n",
       "  </thead>\n",
       "  <tbody>\n",
       "    <tr>\n",
       "      <th>0</th>\n",
       "      <td>43</td>\n",
       "      <td>99</td>\n",
       "      <td>4257</td>\n",
       "      <td>1849</td>\n",
       "      <td>9801</td>\n",
       "    </tr>\n",
       "    <tr>\n",
       "      <th>1</th>\n",
       "      <td>21</td>\n",
       "      <td>65</td>\n",
       "      <td>1365</td>\n",
       "      <td>441</td>\n",
       "      <td>4225</td>\n",
       "    </tr>\n",
       "    <tr>\n",
       "      <th>2</th>\n",
       "      <td>25</td>\n",
       "      <td>79</td>\n",
       "      <td>1975</td>\n",
       "      <td>625</td>\n",
       "      <td>6241</td>\n",
       "    </tr>\n",
       "    <tr>\n",
       "      <th>3</th>\n",
       "      <td>42</td>\n",
       "      <td>75</td>\n",
       "      <td>3150</td>\n",
       "      <td>1764</td>\n",
       "      <td>5625</td>\n",
       "    </tr>\n",
       "    <tr>\n",
       "      <th>4</th>\n",
       "      <td>57</td>\n",
       "      <td>87</td>\n",
       "      <td>4959</td>\n",
       "      <td>3249</td>\n",
       "      <td>7569</td>\n",
       "    </tr>\n",
       "    <tr>\n",
       "      <th>5</th>\n",
       "      <td>59</td>\n",
       "      <td>81</td>\n",
       "      <td>4779</td>\n",
       "      <td>3481</td>\n",
       "      <td>6561</td>\n",
       "    </tr>\n",
       "    <tr>\n",
       "      <th>Sum</th>\n",
       "      <td>247</td>\n",
       "      <td>486</td>\n",
       "      <td>20485</td>\n",
       "      <td>11409</td>\n",
       "      <td>40022</td>\n",
       "    </tr>\n",
       "  </tbody>\n",
       "</table>\n",
       "</div>"
      ],
      "text/plain": [
       "     Age  mg/dL- (Glucose Level)     Xy  X_Squared  y_Squared\n",
       "0     43                      99   4257       1849       9801\n",
       "1     21                      65   1365        441       4225\n",
       "2     25                      79   1975        625       6241\n",
       "3     42                      75   3150       1764       5625\n",
       "4     57                      87   4959       3249       7569\n",
       "5     59                      81   4779       3481       6561\n",
       "Sum  247                     486  20485      11409      40022"
      ]
     },
     "execution_count": 31,
     "metadata": {},
     "output_type": "execute_result"
    }
   ],
   "source": [
    "db_df"
   ]
  },
  {
   "cell_type": "markdown",
   "id": "f796d255",
   "metadata": {},
   "source": [
    "# Solve for b0 - Intercept"
   ]
  },
  {
   "cell_type": "code",
   "execution_count": 32,
   "id": "747b61fd",
   "metadata": {},
   "outputs": [],
   "source": [
    "numerator_intercept = (y_sum * X_squared_sum) - (X_sum * Xy_sum)"
   ]
  },
  {
   "cell_type": "code",
   "execution_count": 33,
   "id": "ea4eeeba",
   "metadata": {},
   "outputs": [],
   "source": [
    "denominator_intercept = (6 * X_squared_sum) - (X_sum ** 2)"
   ]
  },
  {
   "cell_type": "code",
   "execution_count": 34,
   "id": "db7acce1",
   "metadata": {},
   "outputs": [
    {
     "data": {
      "text/plain": [
       "484979"
      ]
     },
     "execution_count": 34,
     "metadata": {},
     "output_type": "execute_result"
    }
   ],
   "source": [
    "numerator_intercept"
   ]
  },
  {
   "cell_type": "code",
   "execution_count": 35,
   "id": "4d576724",
   "metadata": {},
   "outputs": [
    {
     "data": {
      "text/plain": [
       "7445"
      ]
     },
     "execution_count": 35,
     "metadata": {},
     "output_type": "execute_result"
    }
   ],
   "source": [
    "denominator_intercept"
   ]
  },
  {
   "cell_type": "code",
   "execution_count": 36,
   "id": "9baec457",
   "metadata": {},
   "outputs": [],
   "source": [
    "b0_intercept = numerator_intercept / denominator_intercept"
   ]
  },
  {
   "cell_type": "code",
   "execution_count": 37,
   "id": "6de9c3c8",
   "metadata": {},
   "outputs": [
    {
     "data": {
      "text/plain": [
       "65.1415715245131"
      ]
     },
     "execution_count": 37,
     "metadata": {},
     "output_type": "execute_result"
    }
   ],
   "source": [
    "b0_intercept"
   ]
  },
  {
   "cell_type": "markdown",
   "id": "5b3fb279",
   "metadata": {},
   "source": [
    "# Solve for b1 - Slope"
   ]
  },
  {
   "cell_type": "code",
   "execution_count": 38,
   "id": "2768980f",
   "metadata": {},
   "outputs": [],
   "source": [
    "numerator_slope = (6 * Xy_sum) - (X_sum * y_sum)"
   ]
  },
  {
   "cell_type": "code",
   "execution_count": 39,
   "id": "d5681842",
   "metadata": {},
   "outputs": [],
   "source": [
    "denominator_slope = (6 * X_squared_sum) - (X_sum ** 2)"
   ]
  },
  {
   "cell_type": "code",
   "execution_count": 40,
   "id": "8c785cca",
   "metadata": {},
   "outputs": [
    {
     "data": {
      "text/plain": [
       "2868"
      ]
     },
     "execution_count": 40,
     "metadata": {},
     "output_type": "execute_result"
    }
   ],
   "source": [
    "numerator_slope"
   ]
  },
  {
   "cell_type": "code",
   "execution_count": 41,
   "id": "d563b6bc",
   "metadata": {},
   "outputs": [
    {
     "data": {
      "text/plain": [
       "7445"
      ]
     },
     "execution_count": 41,
     "metadata": {},
     "output_type": "execute_result"
    }
   ],
   "source": [
    "denominator_slope"
   ]
  },
  {
   "cell_type": "code",
   "execution_count": 42,
   "id": "9e63509f",
   "metadata": {},
   "outputs": [],
   "source": [
    "b1_slope = numerator_slope / denominator_slope"
   ]
  },
  {
   "cell_type": "code",
   "execution_count": 43,
   "id": "b39f763f",
   "metadata": {},
   "outputs": [
    {
     "data": {
      "text/plain": [
       "0.3852249832102082"
      ]
     },
     "execution_count": 43,
     "metadata": {},
     "output_type": "execute_result"
    }
   ],
   "source": [
    "b1_slope"
   ]
  },
  {
   "cell_type": "markdown",
   "id": "989dd558",
   "metadata": {},
   "source": [
    "# Create Trendline"
   ]
  },
  {
   "cell_type": "code",
   "execution_count": 44,
   "id": "f851f46b",
   "metadata": {},
   "outputs": [],
   "source": [
    "predictor = fit_intercept_slope(b0_intercept, b1_slope)"
   ]
  },
  {
   "cell_type": "code",
   "execution_count": 45,
   "id": "302cbdc9",
   "metadata": {},
   "outputs": [],
   "source": [
    "yPred = predictor(X)"
   ]
  },
  {
   "cell_type": "code",
   "execution_count": 46,
   "id": "364f6184",
   "metadata": {},
   "outputs": [
    {
     "data": {
      "text/plain": [
       "array([81.7062458 , 73.23129617, 74.7721961 , 81.32102082, 87.09939557,\n",
       "       87.86984553])"
      ]
     },
     "execution_count": 46,
     "metadata": {},
     "output_type": "execute_result"
    }
   ],
   "source": [
    "yPred"
   ]
  },
  {
   "cell_type": "code",
   "execution_count": 47,
   "id": "a498390c",
   "metadata": {},
   "outputs": [
    {
     "data": {
      "image/png": "[encoded data removed]",
      "text/plain": [
       "<Figure size 864x576 with 1 Axes>"
      ]
     },
     "metadata": {
      "needs_background": "light"
     },
     "output_type": "display_data"
    }
   ],
   "source": [
    "plt.figure(figsize=(12,8))\n",
    "sns.scatterplot(x=X,y=y).set(xlabel=\"Age\", ylabel = \"Glucose\", title='Glucose Levels by Age')\n",
    "sns.scatterplot(x=X,y=yPred,color='y')\n",
    "sns.lineplot(x=X, y=yPred, color='g')\n",
    "plt.show()"
   ]
  },
  {
   "cell_type": "markdown",
   "id": "b4696130",
   "metadata": {},
   "source": [
    "# Residuals"
   ]
  },
  {
   "cell_type": "code",
   "execution_count": 48,
   "id": "b3d758f8",
   "metadata": {},
   "outputs": [
    {
     "data": {
      "text/plain": [
       "array([99, 65, 79, 75, 87, 81])"
      ]
     },
     "execution_count": 48,
     "metadata": {},
     "output_type": "execute_result"
    }
   ],
   "source": [
    "y"
   ]
  },
  {
   "cell_type": "code",
   "execution_count": 49,
   "id": "c9427a83",
   "metadata": {},
   "outputs": [
    {
     "data": {
      "text/plain": [
       "array([81.7062458 , 73.23129617, 74.7721961 , 81.32102082, 87.09939557,\n",
       "       87.86984553])"
      ]
     },
     "execution_count": 49,
     "metadata": {},
     "output_type": "execute_result"
    }
   ],
   "source": [
    "yPred"
   ]
  },
  {
   "cell_type": "code",
   "execution_count": 50,
   "id": "2cad4a31",
   "metadata": {},
   "outputs": [
    {
     "data": {
      "text/plain": [
       "array([17.2937542 , -8.23129617,  4.2278039 , -6.32102082, -0.09939557,\n",
       "       -6.86984553])"
      ]
     },
     "execution_count": 50,
     "metadata": {},
     "output_type": "execute_result"
    }
   ],
   "source": [
    "residuals = y - yPred\n",
    "residuals"
   ]
  },
  {
   "cell_type": "markdown",
   "id": "0bf05171",
   "metadata": {},
   "source": [
    "# Mean Squared Error"
   ]
  },
  {
   "cell_type": "code",
   "execution_count": 51,
   "id": "86a4ca03",
   "metadata": {},
   "outputs": [
    {
     "data": {
      "text/plain": [
       "array([17.2937542 , -8.23129617,  4.2278039 , -6.32102082, -0.09939557,\n",
       "       -6.86984553])"
      ]
     },
     "execution_count": 51,
     "metadata": {},
     "output_type": "execute_result"
    }
   ],
   "source": [
    "residuals"
   ]
  },
  {
   "cell_type": "code",
   "execution_count": 52,
   "id": "d4360fe1",
   "metadata": {},
   "outputs": [
    {
     "data": {
      "text/plain": [
       "array([2.99073934e+02, 6.77542367e+01, 1.78743258e+01, 3.99553042e+01,\n",
       "       9.87947884e-03, 4.71947777e+01])"
      ]
     },
     "execution_count": 52,
     "metadata": {},
     "output_type": "execute_result"
    }
   ],
   "source": [
    "residuals_squared = residuals ** 2\n",
    "residuals_squared"
   ]
  },
  {
   "cell_type": "code",
   "execution_count": 53,
   "id": "51cec1fb",
   "metadata": {},
   "outputs": [
    {
     "data": {
      "text/plain": [
       "78.64374300425344"
      ]
     },
     "execution_count": 53,
     "metadata": {},
     "output_type": "execute_result"
    }
   ],
   "source": [
    "sum(residuals_squared) / len(y)"
   ]
  },
  {
   "cell_type": "code",
   "execution_count": 54,
   "id": "22978d57",
   "metadata": {},
   "outputs": [
    {
     "data": {
      "text/plain": [
       "78.64374300425344"
      ]
     },
     "execution_count": 54,
     "metadata": {},
     "output_type": "execute_result"
    }
   ],
   "source": [
    "mean_squared_error(y,yPred)"
   ]
  },
  {
   "cell_type": "markdown",
   "id": "6b5916f1",
   "metadata": {},
   "source": [
    "# R Squared"
   ]
  },
  {
   "cell_type": "code",
   "execution_count": 91,
   "id": "aa22ec33",
   "metadata": {},
   "outputs": [
    {
     "data": {
      "text/plain": [
       "0.2806974725220722"
      ]
     },
     "execution_count": 91,
     "metadata": {},
     "output_type": "execute_result"
    }
   ],
   "source": [
    "1 - sum(residuals_squared) / sum((y - np.mean(y)) ** 2)"
   ]
  },
  {
   "cell_type": "markdown",
   "id": "829b3049",
   "metadata": {},
   "source": [
    "# Compare Results"
   ]
  },
  {
   "cell_type": "code",
   "execution_count": 55,
   "id": "9ae00273",
   "metadata": {},
   "outputs": [
    {
     "data": {
      "text/plain": [
       "array([[43],\n",
       "       [21],\n",
       "       [25],\n",
       "       [42],\n",
       "       [57],\n",
       "       [59]])"
      ]
     },
     "execution_count": 55,
     "metadata": {},
     "output_type": "execute_result"
    }
   ],
   "source": [
    "# The LinearRegression class from sklearn.linear_model intakes features as a column vector instead of a row vector\n",
    "\n",
    "X_matrix = X.reshape(-1,1)\n",
    "X_matrix"
   ]
  },
  {
   "cell_type": "code",
   "execution_count": 56,
   "id": "c5a83140",
   "metadata": {},
   "outputs": [],
   "source": [
    "# Instantiate the sklearn.linear_model.LinearRegression class\n",
    "\n",
    "lm = LinearRegression()\n",
    "\n",
    "# Instantiate custom SimpleLinearRegresion class\n",
    "\n",
    "slm = SimpleLinearRegression()"
   ]
  },
  {
   "cell_type": "code",
   "execution_count": 57,
   "id": "718a0652",
   "metadata": {},
   "outputs": [
    {
     "data": {
      "text/plain": [
       "LinearRegression()"
      ]
     },
     "execution_count": 57,
     "metadata": {},
     "output_type": "execute_result"
    }
   ],
   "source": [
    "# Fit both linear models\n",
    "\n",
    "slm.FitModel(X,y)\n",
    "\n",
    "lm.fit(X_matrix,y)"
   ]
  },
  {
   "cell_type": "code",
   "execution_count": 58,
   "id": "1c73d94a",
   "metadata": {},
   "outputs": [
    {
     "data": {
      "text/plain": [
       "65.1415715245131"
      ]
     },
     "execution_count": 58,
     "metadata": {},
     "output_type": "execute_result"
    }
   ],
   "source": [
    "lm.intercept_"
   ]
  },
  {
   "cell_type": "code",
   "execution_count": 59,
   "id": "acdac8f0",
   "metadata": {},
   "outputs": [
    {
     "data": {
      "text/plain": [
       "65.1415715245131"
      ]
     },
     "execution_count": 59,
     "metadata": {},
     "output_type": "execute_result"
    }
   ],
   "source": [
    "b0_intercept"
   ]
  },
  {
   "cell_type": "code",
   "execution_count": 60,
   "id": "696d0b7a",
   "metadata": {},
   "outputs": [
    {
     "data": {
      "text/plain": [
       "65.1415715245131"
      ]
     },
     "execution_count": 60,
     "metadata": {},
     "output_type": "execute_result"
    }
   ],
   "source": [
    "slm._intercept"
   ]
  },
  {
   "cell_type": "code",
   "execution_count": 61,
   "id": "6a5b481c",
   "metadata": {},
   "outputs": [
    {
     "data": {
      "text/plain": [
       "0.3852249832102082"
      ]
     },
     "execution_count": 61,
     "metadata": {},
     "output_type": "execute_result"
    }
   ],
   "source": [
    "lm.coef_[0]"
   ]
  },
  {
   "cell_type": "code",
   "execution_count": 62,
   "id": "c1b25174",
   "metadata": {},
   "outputs": [
    {
     "data": {
      "text/plain": [
       "0.3852249832102082"
      ]
     },
     "execution_count": 62,
     "metadata": {},
     "output_type": "execute_result"
    }
   ],
   "source": [
    "slm._slope"
   ]
  },
  {
   "cell_type": "code",
   "execution_count": 63,
   "id": "e68452f1",
   "metadata": {},
   "outputs": [
    {
     "data": {
      "text/plain": [
       "0.3852249832102082"
      ]
     },
     "execution_count": 63,
     "metadata": {},
     "output_type": "execute_result"
    }
   ],
   "source": [
    "b1_slope"
   ]
  },
  {
   "cell_type": "code",
   "execution_count": 64,
   "id": "67856c53",
   "metadata": {},
   "outputs": [
    {
     "data": {
      "text/plain": [
       "81.70624580255205"
      ]
     },
     "execution_count": 64,
     "metadata": {},
     "output_type": "execute_result"
    }
   ],
   "source": [
    "lm.predict([[43]])[0]"
   ]
  },
  {
   "cell_type": "code",
   "execution_count": 65,
   "id": "b8fe5fa2",
   "metadata": {},
   "outputs": [
    {
     "data": {
      "text/plain": [
       "81.70624580255205"
      ]
     },
     "execution_count": 65,
     "metadata": {},
     "output_type": "execute_result"
    }
   ],
   "source": [
    "predictor(43)"
   ]
  },
  {
   "cell_type": "code",
   "execution_count": 66,
   "id": "0b427430",
   "metadata": {},
   "outputs": [
    {
     "data": {
      "text/plain": [
       "81.70624580255205"
      ]
     },
     "execution_count": 66,
     "metadata": {},
     "output_type": "execute_result"
    }
   ],
   "source": [
    "slm.predictor(43)"
   ]
  },
  {
   "cell_type": "code",
   "execution_count": 67,
   "id": "56480b60",
   "metadata": {
    "scrolled": true
   },
   "outputs": [
    {
     "data": {
      "text/plain": [
       "array([81.7062458 , 73.23129617, 74.7721961 , 81.32102082, 87.09939557,\n",
       "       87.86984553])"
      ]
     },
     "execution_count": 67,
     "metadata": {},
     "output_type": "execute_result"
    }
   ],
   "source": [
    "lm.predict(X_matrix)"
   ]
  },
  {
   "cell_type": "code",
   "execution_count": 68,
   "id": "cd7d851b",
   "metadata": {},
   "outputs": [
    {
     "data": {
      "text/plain": [
       "array([81.7062458 , 73.23129617, 74.7721961 , 81.32102082, 87.09939557,\n",
       "       87.86984553])"
      ]
     },
     "execution_count": 68,
     "metadata": {},
     "output_type": "execute_result"
    }
   ],
   "source": [
    "predictor(X)"
   ]
  },
  {
   "cell_type": "code",
   "execution_count": 69,
   "id": "49578251",
   "metadata": {},
   "outputs": [
    {
     "data": {
      "text/plain": [
       "array([81.7062458 , 73.23129617, 74.7721961 , 81.32102082, 87.09939557,\n",
       "       87.86984553])"
      ]
     },
     "execution_count": 69,
     "metadata": {},
     "output_type": "execute_result"
    }
   ],
   "source": [
    "slm.predictor(X)"
   ]
  }
 ],
 "metadata": {
  "kernelspec": {
   "display_name": "Python 3 (ipykernel)",
   "language": "python",
   "name": "python3"
  },
  "language_info": {
   "codemirror_mode": {
    "name": "ipython",
    "version": 3
   },
   "file_extension": ".py",
   "mimetype": "text/x-python",
   "name": "python",
   "nbconvert_exporter": "python",
   "pygments_lexer": "ipython3",
   "version": "3.9.7"
  }
 },
 "nbformat": 4,
 "nbformat_minor": 5
}
